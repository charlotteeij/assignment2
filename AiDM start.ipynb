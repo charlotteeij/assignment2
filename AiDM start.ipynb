{
 "cells": [
  {
   "cell_type": "code",
   "execution_count": 128,
   "id": "a8c34e27",
   "metadata": {},
   "outputs": [],
   "source": [
    "import numpy as np\n",
    "import scipy"
   ]
  },
  {
   "cell_type": "code",
   "execution_count": 129,
   "id": "b43355f4",
   "metadata": {},
   "outputs": [
    {
     "name": "stdout",
     "output_type": "stream",
     "text": [
      "  (1, 30)\t3\n",
      "  (1, 157)\t3\n",
      "  (1, 173)\t4\n",
      "  (1, 175)\t5\n",
      "  (1, 191)\t2\n",
      "  (1, 197)\t3\n",
      "  (1, 241)\t3\n",
      "  (1, 295)\t4\n",
      "  (1, 299)\t3\n",
      "  (1, 329)\t4\n",
      "  (1, 361)\t3\n",
      "  (1, 445)\t3\n",
      "  (1, 457)\t5\n",
      "  (1, 468)\t3\n",
      "  (1, 494)\t3\n",
      "  (1, 501)\t3\n",
      "  (1, 528)\t4\n",
      "  (1, 564)\t4\n",
      "  (1, 580)\t3\n",
      "  (1, 658)\t3\n",
      "  (1, 705)\t3\n",
      "  (1, 706)\t3\n",
      "  (1, 723)\t3\n",
      "  (1, 788)\t3\n",
      "  (1, 825)\t3\n",
      "  :\t:\n",
      "  (103703, 16552)\t4\n",
      "  (103703, 16604)\t4\n",
      "  (103703, 16668)\t4\n",
      "  (103703, 16707)\t3\n",
      "  (103703, 16740)\t2\n",
      "  (103703, 16765)\t2\n",
      "  (103703, 16830)\t5\n",
      "  (103703, 16882)\t3\n",
      "  (103703, 16922)\t3\n",
      "  (103703, 16954)\t4\n",
      "  (103703, 17053)\t4\n",
      "  (103703, 17088)\t1\n",
      "  (103703, 17149)\t2\n",
      "  (103703, 17154)\t3\n",
      "  (103703, 17157)\t5\n",
      "  (103703, 17251)\t2\n",
      "  (103703, 17308)\t3\n",
      "  (103703, 17330)\t2\n",
      "  (103703, 17346)\t4\n",
      "  (103703, 17424)\t4\n",
      "  (103703, 17479)\t2\n",
      "  (103703, 17621)\t4\n",
      "  (103703, 17622)\t2\n",
      "  (103703, 17627)\t4\n",
      "  (103703, 17764)\t4\n"
     ]
    }
   ],
   "source": [
    "data = np.load('user_movie_rating.npy')\n",
    "users = data[:,0]\n",
    "movies = data[:,1]\n",
    "ranking = data[:,2]\n",
    "\n",
    "matrix = scipy.sparse.csr_matrix((ranking, [users, movies]))\n",
    "print(matrix)"
   ]
  },
  {
   "cell_type": "code",
   "execution_count": 130,
   "id": "e568e851",
   "metadata": {},
   "outputs": [
    {
     "name": "stdout",
     "output_type": "stream",
     "text": [
      "(103704, 17771)\n"
     ]
    }
   ],
   "source": [
    "print(np.shape(matrix))\n",
    "num_users = max(users)\n",
    "num_movies = max(movies)"
   ]
  },
  {
   "cell_type": "code",
   "execution_count": 131,
   "id": "2936e167",
   "metadata": {},
   "outputs": [],
   "source": [
    "permutations = []\n",
    "for i in range(100):\n",
    "    permutations +=[np.random.permutation(num_movies+1)]"
   ]
  },
  {
   "cell_type": "code",
   "execution_count": 133,
   "id": "268c507d",
   "metadata": {},
   "outputs": [],
   "source": [
    "signatures = np.zeros((100,num_users+1),dtype=int)\n",
    "for num, permutation in enumerate(permutations):\n",
    "    for user in range(1,num_users+1): \n",
    "        movies = matrix[user].indices\n",
    "        signatures[num,user] = np.min(permutation[movies])\n",
    "signatures = signatures[:,1:]"
   ]
  },
  {
   "cell_type": "code",
   "execution_count": 134,
   "id": "4fe34c01",
   "metadata": {},
   "outputs": [
    {
     "name": "stdout",
     "output_type": "stream",
     "text": [
      "[[  4   4   4 ...   9   4   4]\n",
      " [ 18  18  49 ...  72  49  49]\n",
      " [ 39   7  39 ...  26  39  39]\n",
      " ...\n",
      " [ 30   2 112 ...  53  68  69]\n",
      " [ 24  24  24 ... 108  24  24]\n",
      " [ 41  27  15 ...  15  32  60]]\n"
     ]
    }
   ],
   "source": [
    "print(signatures)"
   ]
  },
  {
   "cell_type": "code",
   "execution_count": null,
   "id": "90571ea0",
   "metadata": {},
   "outputs": [],
   "source": []
  }
 ],
 "metadata": {
  "kernelspec": {
   "display_name": "Python 3 (ipykernel)",
   "language": "python",
   "name": "python3"
  },
  "language_info": {
   "codemirror_mode": {
    "name": "ipython",
    "version": 3
   },
   "file_extension": ".py",
   "mimetype": "text/x-python",
   "name": "python",
   "nbconvert_exporter": "python",
   "pygments_lexer": "ipython3",
   "version": "3.11.5"
  }
 },
 "nbformat": 4,
 "nbformat_minor": 5
}
